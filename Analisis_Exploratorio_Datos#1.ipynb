{
 "cells": [
  {
   "cell_type": "code",
   "execution_count": 1,
   "id": "adc27445-5e89-4342-a142-cd4648a40bb8",
   "metadata": {},
   "outputs": [
    {
     "name": "stdout",
     "output_type": "stream",
     "text": [
      "Last updated: 2022-02-03T20:35:48.641623-05:00\n",
      "\n",
      "Python implementation: CPython\n",
      "Python version       : 3.8.8\n",
      "IPython version      : 7.22.0\n",
      "\n",
      "Compiler    : GCC 7.3.0\n",
      "OS          : Linux\n",
      "Release     : 5.4.0-48-generic\n",
      "Machine     : x86_64\n",
      "Processor   : x86_64\n",
      "CPU cores   : 4\n",
      "Architecture: 64bit\n",
      "\n"
     ]
    }
   ],
   "source": [
    "%load_ext watermark\n",
    "%watermark"
   ]
  },
  {
   "cell_type": "code",
   "execution_count": 2,
   "id": "48b52937-7187-4ec3-b82f-0ae29696dc29",
   "metadata": {},
   "outputs": [],
   "source": [
    "import pandas as pd\n",
    "import matplotlib.pyplot as plt\n",
    "%matplotlib inline\n",
    "plt.rcParams[\"figure.figsize\"] = (10,6)"
   ]
  },
  {
   "cell_type": "code",
   "execution_count": 3,
   "id": "8a0505ea-6a64-49c4-9f65-b99d1393f71c",
   "metadata": {},
   "outputs": [
    {
     "data": {
      "text/html": [
       "<div>\n",
       "<style scoped>\n",
       "    .dataframe tbody tr th:only-of-type {\n",
       "        vertical-align: middle;\n",
       "    }\n",
       "\n",
       "    .dataframe tbody tr th {\n",
       "        vertical-align: top;\n",
       "    }\n",
       "\n",
       "    .dataframe thead th {\n",
       "        text-align: right;\n",
       "    }\n",
       "</style>\n",
       "<table border=\"1\" class=\"dataframe\">\n",
       "  <thead>\n",
       "    <tr style=\"text-align: right;\">\n",
       "      <th></th>\n",
       "      <th>make</th>\n",
       "      <th>model</th>\n",
       "      <th>year</th>\n",
       "      <th>displ</th>\n",
       "      <th>cylinders</th>\n",
       "      <th>trany</th>\n",
       "      <th>drive</th>\n",
       "      <th>VClass</th>\n",
       "      <th>fuelType</th>\n",
       "      <th>comb08</th>\n",
       "      <th>co2TailpipeGpm</th>\n",
       "    </tr>\n",
       "  </thead>\n",
       "  <tbody>\n",
       "    <tr>\n",
       "      <th>0</th>\n",
       "      <td>AM General</td>\n",
       "      <td>DJ Po Vehicle 2WD</td>\n",
       "      <td>1984</td>\n",
       "      <td>2.5</td>\n",
       "      <td>4.0</td>\n",
       "      <td>Automatic 3-spd</td>\n",
       "      <td>2-Wheel Drive</td>\n",
       "      <td>Special Purpose Vehicle 2WD</td>\n",
       "      <td>Regular</td>\n",
       "      <td>17</td>\n",
       "      <td>522.764706</td>\n",
       "    </tr>\n",
       "    <tr>\n",
       "      <th>1</th>\n",
       "      <td>AM General</td>\n",
       "      <td>DJ Po Vehicle 2WD</td>\n",
       "      <td>1984</td>\n",
       "      <td>2.5</td>\n",
       "      <td>4.0</td>\n",
       "      <td>Automatic 3-spd</td>\n",
       "      <td>2-Wheel Drive</td>\n",
       "      <td>Special Purpose Vehicle 2WD</td>\n",
       "      <td>Regular</td>\n",
       "      <td>17</td>\n",
       "      <td>522.764706</td>\n",
       "    </tr>\n",
       "    <tr>\n",
       "      <th>2</th>\n",
       "      <td>AM General</td>\n",
       "      <td>FJ8c Post Office</td>\n",
       "      <td>1984</td>\n",
       "      <td>4.2</td>\n",
       "      <td>6.0</td>\n",
       "      <td>Automatic 3-spd</td>\n",
       "      <td>2-Wheel Drive</td>\n",
       "      <td>Special Purpose Vehicle 2WD</td>\n",
       "      <td>Regular</td>\n",
       "      <td>13</td>\n",
       "      <td>683.615385</td>\n",
       "    </tr>\n",
       "    <tr>\n",
       "      <th>3</th>\n",
       "      <td>AM General</td>\n",
       "      <td>FJ8c Post Office</td>\n",
       "      <td>1984</td>\n",
       "      <td>4.2</td>\n",
       "      <td>6.0</td>\n",
       "      <td>Automatic 3-spd</td>\n",
       "      <td>2-Wheel Drive</td>\n",
       "      <td>Special Purpose Vehicle 2WD</td>\n",
       "      <td>Regular</td>\n",
       "      <td>13</td>\n",
       "      <td>683.615385</td>\n",
       "    </tr>\n",
       "    <tr>\n",
       "      <th>4</th>\n",
       "      <td>AM General</td>\n",
       "      <td>Post Office DJ5 2WD</td>\n",
       "      <td>1985</td>\n",
       "      <td>2.5</td>\n",
       "      <td>4.0</td>\n",
       "      <td>Automatic 3-spd</td>\n",
       "      <td>Rear-Wheel Drive</td>\n",
       "      <td>Special Purpose Vehicle 2WD</td>\n",
       "      <td>Regular</td>\n",
       "      <td>16</td>\n",
       "      <td>555.437500</td>\n",
       "    </tr>\n",
       "  </tbody>\n",
       "</table>\n",
       "</div>"
      ],
      "text/plain": [
       "         make                model  year  displ  cylinders            trany  \\\n",
       "0  AM General    DJ Po Vehicle 2WD  1984    2.5        4.0  Automatic 3-spd   \n",
       "1  AM General    DJ Po Vehicle 2WD  1984    2.5        4.0  Automatic 3-spd   \n",
       "2  AM General     FJ8c Post Office  1984    4.2        6.0  Automatic 3-spd   \n",
       "3  AM General     FJ8c Post Office  1984    4.2        6.0  Automatic 3-spd   \n",
       "4  AM General  Post Office DJ5 2WD  1985    2.5        4.0  Automatic 3-spd   \n",
       "\n",
       "              drive                       VClass fuelType  comb08  \\\n",
       "0     2-Wheel Drive  Special Purpose Vehicle 2WD  Regular      17   \n",
       "1     2-Wheel Drive  Special Purpose Vehicle 2WD  Regular      17   \n",
       "2     2-Wheel Drive  Special Purpose Vehicle 2WD  Regular      13   \n",
       "3     2-Wheel Drive  Special Purpose Vehicle 2WD  Regular      13   \n",
       "4  Rear-Wheel Drive  Special Purpose Vehicle 2WD  Regular      16   \n",
       "\n",
       "   co2TailpipeGpm  \n",
       "0      522.764706  \n",
       "1      522.764706  \n",
       "2      683.615385  \n",
       "3      683.615385  \n",
       "4      555.437500  "
      ]
     },
     "execution_count": 3,
     "metadata": {},
     "output_type": "execute_result"
    }
   ],
   "source": [
    "url=\"https://raw.githubusercontent.com/manugarri/curso_data_science/master/Secciones/Seccion4.Analisis_y_procesado_de_datos/Procesado_de_Datos/data/vehiculos_original.csv\"\n",
    "vehiculos = pd.read_csv(url)\n",
    "vehiculos.head()"
   ]
  },
  {
   "cell_type": "code",
   "execution_count": 4,
   "id": "c15ec8cb-0e8c-4a85-8221-8ba7f81be9d6",
   "metadata": {},
   "outputs": [],
   "source": [
    "vehiculos=vehiculos.rename(columns={\n",
    "                \"cylinders\":\"cilindros\",\n",
    "                \"trany\":\"transmision\",\n",
    "                \"make\":\"fabricante\",\n",
    "                \"model\":\"modelo\",\n",
    "                \"displ\":\"desplazamiento\", #volumen de desplazamiento del motor\n",
    "                \"drive\":\"traccion\",\n",
    "                \"VClass\":\"clase\",\n",
    "                \"fuelType\":\"combustible\",\n",
    "                \"comb08\":\"consumo\", #combined MPG for fuelType1\n",
    "                \"co2TailpipeGpm\":\"co2\", # tailpipe CO2 in grams/mile\n",
    "            })"
   ]
  },
  {
   "cell_type": "code",
   "execution_count": 5,
   "id": "be1c366a-cc92-4c06-a53c-aae9ffb911b3",
   "metadata": {},
   "outputs": [
    {
     "data": {
      "text/html": [
       "<div>\n",
       "<style scoped>\n",
       "    .dataframe tbody tr th:only-of-type {\n",
       "        vertical-align: middle;\n",
       "    }\n",
       "\n",
       "    .dataframe tbody tr th {\n",
       "        vertical-align: top;\n",
       "    }\n",
       "\n",
       "    .dataframe thead th {\n",
       "        text-align: right;\n",
       "    }\n",
       "</style>\n",
       "<table border=\"1\" class=\"dataframe\">\n",
       "  <thead>\n",
       "    <tr style=\"text-align: right;\">\n",
       "      <th></th>\n",
       "      <th>fabricante</th>\n",
       "      <th>modelo</th>\n",
       "      <th>year</th>\n",
       "      <th>desplazamiento</th>\n",
       "      <th>cilindros</th>\n",
       "      <th>transmision</th>\n",
       "      <th>traccion</th>\n",
       "      <th>clase</th>\n",
       "      <th>combustible</th>\n",
       "      <th>consumo</th>\n",
       "      <th>co2</th>\n",
       "    </tr>\n",
       "  </thead>\n",
       "  <tbody>\n",
       "    <tr>\n",
       "      <th>0</th>\n",
       "      <td>AM General</td>\n",
       "      <td>DJ Po Vehicle 2WD</td>\n",
       "      <td>1984</td>\n",
       "      <td>2.5</td>\n",
       "      <td>4.0</td>\n",
       "      <td>Automatic 3-spd</td>\n",
       "      <td>2-Wheel Drive</td>\n",
       "      <td>Special Purpose Vehicle 2WD</td>\n",
       "      <td>Regular</td>\n",
       "      <td>17</td>\n",
       "      <td>522.764706</td>\n",
       "    </tr>\n",
       "    <tr>\n",
       "      <th>1</th>\n",
       "      <td>AM General</td>\n",
       "      <td>DJ Po Vehicle 2WD</td>\n",
       "      <td>1984</td>\n",
       "      <td>2.5</td>\n",
       "      <td>4.0</td>\n",
       "      <td>Automatic 3-spd</td>\n",
       "      <td>2-Wheel Drive</td>\n",
       "      <td>Special Purpose Vehicle 2WD</td>\n",
       "      <td>Regular</td>\n",
       "      <td>17</td>\n",
       "      <td>522.764706</td>\n",
       "    </tr>\n",
       "    <tr>\n",
       "      <th>2</th>\n",
       "      <td>AM General</td>\n",
       "      <td>FJ8c Post Office</td>\n",
       "      <td>1984</td>\n",
       "      <td>4.2</td>\n",
       "      <td>6.0</td>\n",
       "      <td>Automatic 3-spd</td>\n",
       "      <td>2-Wheel Drive</td>\n",
       "      <td>Special Purpose Vehicle 2WD</td>\n",
       "      <td>Regular</td>\n",
       "      <td>13</td>\n",
       "      <td>683.615385</td>\n",
       "    </tr>\n",
       "    <tr>\n",
       "      <th>3</th>\n",
       "      <td>AM General</td>\n",
       "      <td>FJ8c Post Office</td>\n",
       "      <td>1984</td>\n",
       "      <td>4.2</td>\n",
       "      <td>6.0</td>\n",
       "      <td>Automatic 3-spd</td>\n",
       "      <td>2-Wheel Drive</td>\n",
       "      <td>Special Purpose Vehicle 2WD</td>\n",
       "      <td>Regular</td>\n",
       "      <td>13</td>\n",
       "      <td>683.615385</td>\n",
       "    </tr>\n",
       "    <tr>\n",
       "      <th>4</th>\n",
       "      <td>AM General</td>\n",
       "      <td>Post Office DJ5 2WD</td>\n",
       "      <td>1985</td>\n",
       "      <td>2.5</td>\n",
       "      <td>4.0</td>\n",
       "      <td>Automatic 3-spd</td>\n",
       "      <td>Rear-Wheel Drive</td>\n",
       "      <td>Special Purpose Vehicle 2WD</td>\n",
       "      <td>Regular</td>\n",
       "      <td>16</td>\n",
       "      <td>555.437500</td>\n",
       "    </tr>\n",
       "    <tr>\n",
       "      <th>...</th>\n",
       "      <td>...</td>\n",
       "      <td>...</td>\n",
       "      <td>...</td>\n",
       "      <td>...</td>\n",
       "      <td>...</td>\n",
       "      <td>...</td>\n",
       "      <td>...</td>\n",
       "      <td>...</td>\n",
       "      <td>...</td>\n",
       "      <td>...</td>\n",
       "      <td>...</td>\n",
       "    </tr>\n",
       "    <tr>\n",
       "      <th>38431</th>\n",
       "      <td>smart</td>\n",
       "      <td>fortwo electric drive coupe</td>\n",
       "      <td>2011</td>\n",
       "      <td>NaN</td>\n",
       "      <td>NaN</td>\n",
       "      <td>Automatic (A1)</td>\n",
       "      <td>Rear-Wheel Drive</td>\n",
       "      <td>Two Seaters</td>\n",
       "      <td>Electricity</td>\n",
       "      <td>87</td>\n",
       "      <td>0.000000</td>\n",
       "    </tr>\n",
       "    <tr>\n",
       "      <th>38432</th>\n",
       "      <td>smart</td>\n",
       "      <td>fortwo electric drive coupe</td>\n",
       "      <td>2013</td>\n",
       "      <td>NaN</td>\n",
       "      <td>NaN</td>\n",
       "      <td>Automatic (A1)</td>\n",
       "      <td>Rear-Wheel Drive</td>\n",
       "      <td>Two Seaters</td>\n",
       "      <td>Electricity</td>\n",
       "      <td>107</td>\n",
       "      <td>0.000000</td>\n",
       "    </tr>\n",
       "    <tr>\n",
       "      <th>38433</th>\n",
       "      <td>smart</td>\n",
       "      <td>fortwo electric drive coupe</td>\n",
       "      <td>2014</td>\n",
       "      <td>NaN</td>\n",
       "      <td>NaN</td>\n",
       "      <td>Automatic (A1)</td>\n",
       "      <td>Rear-Wheel Drive</td>\n",
       "      <td>Two Seaters</td>\n",
       "      <td>Electricity</td>\n",
       "      <td>107</td>\n",
       "      <td>0.000000</td>\n",
       "    </tr>\n",
       "    <tr>\n",
       "      <th>38434</th>\n",
       "      <td>smart</td>\n",
       "      <td>fortwo electric drive coupe</td>\n",
       "      <td>2015</td>\n",
       "      <td>NaN</td>\n",
       "      <td>NaN</td>\n",
       "      <td>Automatic (A1)</td>\n",
       "      <td>Rear-Wheel Drive</td>\n",
       "      <td>Two Seaters</td>\n",
       "      <td>Electricity</td>\n",
       "      <td>107</td>\n",
       "      <td>0.000000</td>\n",
       "    </tr>\n",
       "    <tr>\n",
       "      <th>38435</th>\n",
       "      <td>smart</td>\n",
       "      <td>fortwo electric drive coupe</td>\n",
       "      <td>2016</td>\n",
       "      <td>NaN</td>\n",
       "      <td>NaN</td>\n",
       "      <td>Automatic (A1)</td>\n",
       "      <td>Rear-Wheel Drive</td>\n",
       "      <td>Two Seaters</td>\n",
       "      <td>Electricity</td>\n",
       "      <td>107</td>\n",
       "      <td>0.000000</td>\n",
       "    </tr>\n",
       "  </tbody>\n",
       "</table>\n",
       "<p>38436 rows × 11 columns</p>\n",
       "</div>"
      ],
      "text/plain": [
       "       fabricante                       modelo  year  desplazamiento  \\\n",
       "0      AM General            DJ Po Vehicle 2WD  1984             2.5   \n",
       "1      AM General            DJ Po Vehicle 2WD  1984             2.5   \n",
       "2      AM General             FJ8c Post Office  1984             4.2   \n",
       "3      AM General             FJ8c Post Office  1984             4.2   \n",
       "4      AM General          Post Office DJ5 2WD  1985             2.5   \n",
       "...           ...                          ...   ...             ...   \n",
       "38431       smart  fortwo electric drive coupe  2011             NaN   \n",
       "38432       smart  fortwo electric drive coupe  2013             NaN   \n",
       "38433       smart  fortwo electric drive coupe  2014             NaN   \n",
       "38434       smart  fortwo electric drive coupe  2015             NaN   \n",
       "38435       smart  fortwo electric drive coupe  2016             NaN   \n",
       "\n",
       "       cilindros      transmision          traccion  \\\n",
       "0            4.0  Automatic 3-spd     2-Wheel Drive   \n",
       "1            4.0  Automatic 3-spd     2-Wheel Drive   \n",
       "2            6.0  Automatic 3-spd     2-Wheel Drive   \n",
       "3            6.0  Automatic 3-spd     2-Wheel Drive   \n",
       "4            4.0  Automatic 3-spd  Rear-Wheel Drive   \n",
       "...          ...              ...               ...   \n",
       "38431        NaN   Automatic (A1)  Rear-Wheel Drive   \n",
       "38432        NaN   Automatic (A1)  Rear-Wheel Drive   \n",
       "38433        NaN   Automatic (A1)  Rear-Wheel Drive   \n",
       "38434        NaN   Automatic (A1)  Rear-Wheel Drive   \n",
       "38435        NaN   Automatic (A1)  Rear-Wheel Drive   \n",
       "\n",
       "                             clase  combustible  consumo         co2  \n",
       "0      Special Purpose Vehicle 2WD      Regular       17  522.764706  \n",
       "1      Special Purpose Vehicle 2WD      Regular       17  522.764706  \n",
       "2      Special Purpose Vehicle 2WD      Regular       13  683.615385  \n",
       "3      Special Purpose Vehicle 2WD      Regular       13  683.615385  \n",
       "4      Special Purpose Vehicle 2WD      Regular       16  555.437500  \n",
       "...                            ...          ...      ...         ...  \n",
       "38431                  Two Seaters  Electricity       87    0.000000  \n",
       "38432                  Two Seaters  Electricity      107    0.000000  \n",
       "38433                  Two Seaters  Electricity      107    0.000000  \n",
       "38434                  Two Seaters  Electricity      107    0.000000  \n",
       "38435                  Two Seaters  Electricity      107    0.000000  \n",
       "\n",
       "[38436 rows x 11 columns]"
      ]
     },
     "execution_count": 5,
     "metadata": {},
     "output_type": "execute_result"
    }
   ],
   "source": [
    "vehiculos"
   ]
  },
  {
   "cell_type": "code",
   "execution_count": 6,
   "id": "3404c70b-2573-4c1b-96cd-22489e1eb770",
   "metadata": {},
   "outputs": [
    {
     "data": {
      "text/plain": [
       "fabricante         object\n",
       "modelo             object\n",
       "year                int64\n",
       "desplazamiento    float64\n",
       "cilindros         float64\n",
       "transmision        object\n",
       "traccion           object\n",
       "clase              object\n",
       "combustible        object\n",
       "consumo             int64\n",
       "co2               float64\n",
       "dtype: object"
      ]
     },
     "execution_count": 6,
     "metadata": {},
     "output_type": "execute_result"
    }
   ],
   "source": [
    "vehiculos.dtypes"
   ]
  },
  {
   "cell_type": "markdown",
   "id": "f59c2f93-b65f-4987-ace7-da686ceee9a8",
   "metadata": {},
   "source": [
    "#### Descipcion de Entidades\n",
    "\n",
    "fabricante\n",
    "frabricante+modelo\n",
    "fabricante+modelo+año\n",
    "fabricante+año"
   ]
  },
  {
   "cell_type": "code",
   "execution_count": 7,
   "id": "44a6bdab-fc6d-4b06-b9cf-6c225ae79091",
   "metadata": {},
   "outputs": [],
   "source": [
    "vehiculos.to_csv(\"../Analisis_Exploratorio_Datos/vehiculos.1.procesado_inicial.csv\", index = False)"
   ]
  },
  {
   "cell_type": "code",
   "execution_count": 8,
   "id": "d3f63b46-d847-4d8a-9449-7a310e5f91b5",
   "metadata": {},
   "outputs": [],
   "source": [
    "vehiculos = pd.read_csv(\"../Analisis_Exploratorio_Datos/vehiculos.1.procesado_inicial.csv\")"
   ]
  },
  {
   "cell_type": "code",
   "execution_count": 9,
   "id": "2b5fbf1c-385a-4e29-b0f2-4e0424b8389f",
   "metadata": {},
   "outputs": [
    {
     "data": {
      "text/plain": [
       "(38436, 11)"
      ]
     },
     "execution_count": 9,
     "metadata": {},
     "output_type": "execute_result"
    }
   ],
   "source": [
    "vehiculos.shape"
   ]
  },
  {
   "cell_type": "markdown",
   "id": "072a657d-497b-4a55-8522-1a47674a9d3c",
   "metadata": {},
   "source": [
    "#### Duplicados"
   ]
  },
  {
   "cell_type": "code",
   "execution_count": 10,
   "id": "83d62c4c-b5f6-400e-ba1f-cc0f0d1114c4",
   "metadata": {},
   "outputs": [],
   "source": [
    "vehiculos['modelo_unico'] = vehiculos.fabricante.str.cat([vehiculos.modelo,vehiculos.year.apply(str)], sep='-')"
   ]
  },
  {
   "cell_type": "code",
   "execution_count": 11,
   "id": "c107f8da-9725-4f15-bdc5-5949c0a7d17b",
   "metadata": {},
   "outputs": [
    {
     "data": {
      "text/plain": [
       "Jeep-Cherokee/Wagoneer-1985                24\n",
       "Ford-F150 Pickup 2WD-1984                  19\n",
       "Chevrolet-C10 Pickup 2WD-1984              19\n",
       "GMC-C15 Pickup 2WD-1984                    19\n",
       "Chevrolet-S10 Pickup 2WD-1984              18\n",
       "                                           ..\n",
       "Mercedes-Benz-S550-2010                     1\n",
       "Porsche-Cayenne GTS-2014                    1\n",
       "Volvo-XC90 AWD-2013                         1\n",
       "Mercedes-Benz-ML350 Bluetec 4matic-2014     1\n",
       "Mercedes-Benz-SL600-1994                    1\n",
       "Name: modelo_unico, Length: 17448, dtype: int64"
      ]
     },
     "execution_count": 11,
     "metadata": {},
     "output_type": "execute_result"
    }
   ],
   "source": [
    "vehiculos.modelo_unico.value_counts()"
   ]
  },
  {
   "cell_type": "code",
   "execution_count": 12,
   "id": "6eaa3358-ec10-4d40-865e-f2b8039e30c3",
   "metadata": {},
   "outputs": [
    {
     "data": {
      "text/html": [
       "<div>\n",
       "<style scoped>\n",
       "    .dataframe tbody tr th:only-of-type {\n",
       "        vertical-align: middle;\n",
       "    }\n",
       "\n",
       "    .dataframe tbody tr th {\n",
       "        vertical-align: top;\n",
       "    }\n",
       "\n",
       "    .dataframe thead th {\n",
       "        text-align: right;\n",
       "    }\n",
       "</style>\n",
       "<table border=\"1\" class=\"dataframe\">\n",
       "  <thead>\n",
       "    <tr style=\"text-align: right;\">\n",
       "      <th></th>\n",
       "      <th>fabricante</th>\n",
       "      <th>modelo</th>\n",
       "      <th>year</th>\n",
       "      <th>desplazamiento</th>\n",
       "      <th>cilindros</th>\n",
       "      <th>transmision</th>\n",
       "      <th>traccion</th>\n",
       "      <th>clase</th>\n",
       "      <th>combustible</th>\n",
       "      <th>consumo</th>\n",
       "      <th>co2</th>\n",
       "      <th>modelo_unico</th>\n",
       "    </tr>\n",
       "  </thead>\n",
       "  <tbody>\n",
       "    <tr>\n",
       "      <th>7243</th>\n",
       "      <td>Chevrolet</td>\n",
       "      <td>S10 Pickup 2WD</td>\n",
       "      <td>1984</td>\n",
       "      <td>2.0</td>\n",
       "      <td>4.0</td>\n",
       "      <td>Manual 4-spd</td>\n",
       "      <td>2-Wheel Drive</td>\n",
       "      <td>Small Pickup Trucks 2WD</td>\n",
       "      <td>Regular</td>\n",
       "      <td>24</td>\n",
       "      <td>370.291667</td>\n",
       "      <td>Chevrolet-S10 Pickup 2WD-1984</td>\n",
       "    </tr>\n",
       "    <tr>\n",
       "      <th>7244</th>\n",
       "      <td>Chevrolet</td>\n",
       "      <td>S10 Pickup 2WD</td>\n",
       "      <td>1984</td>\n",
       "      <td>2.0</td>\n",
       "      <td>4.0</td>\n",
       "      <td>Manual 5-spd</td>\n",
       "      <td>2-Wheel Drive</td>\n",
       "      <td>Small Pickup Trucks 2WD</td>\n",
       "      <td>Regular</td>\n",
       "      <td>26</td>\n",
       "      <td>341.807692</td>\n",
       "      <td>Chevrolet-S10 Pickup 2WD-1984</td>\n",
       "    </tr>\n",
       "    <tr>\n",
       "      <th>7245</th>\n",
       "      <td>Chevrolet</td>\n",
       "      <td>S10 Pickup 2WD</td>\n",
       "      <td>1984</td>\n",
       "      <td>2.0</td>\n",
       "      <td>4.0</td>\n",
       "      <td>Automatic 4-spd</td>\n",
       "      <td>2-Wheel Drive</td>\n",
       "      <td>Small Pickup Trucks 2WD</td>\n",
       "      <td>Regular</td>\n",
       "      <td>20</td>\n",
       "      <td>444.350000</td>\n",
       "      <td>Chevrolet-S10 Pickup 2WD-1984</td>\n",
       "    </tr>\n",
       "    <tr>\n",
       "      <th>7246</th>\n",
       "      <td>Chevrolet</td>\n",
       "      <td>S10 Pickup 2WD</td>\n",
       "      <td>1984</td>\n",
       "      <td>2.0</td>\n",
       "      <td>4.0</td>\n",
       "      <td>Manual 4-spd</td>\n",
       "      <td>2-Wheel Drive</td>\n",
       "      <td>Small Pickup Trucks 2WD</td>\n",
       "      <td>Regular</td>\n",
       "      <td>21</td>\n",
       "      <td>423.190476</td>\n",
       "      <td>Chevrolet-S10 Pickup 2WD-1984</td>\n",
       "    </tr>\n",
       "    <tr>\n",
       "      <th>7247</th>\n",
       "      <td>Chevrolet</td>\n",
       "      <td>S10 Pickup 2WD</td>\n",
       "      <td>1984</td>\n",
       "      <td>2.0</td>\n",
       "      <td>4.0</td>\n",
       "      <td>Manual 5-spd</td>\n",
       "      <td>2-Wheel Drive</td>\n",
       "      <td>Small Pickup Trucks 2WD</td>\n",
       "      <td>Regular</td>\n",
       "      <td>22</td>\n",
       "      <td>403.954545</td>\n",
       "      <td>Chevrolet-S10 Pickup 2WD-1984</td>\n",
       "    </tr>\n",
       "  </tbody>\n",
       "</table>\n",
       "</div>"
      ],
      "text/plain": [
       "     fabricante          modelo  year  desplazamiento  cilindros  \\\n",
       "7243  Chevrolet  S10 Pickup 2WD  1984             2.0        4.0   \n",
       "7244  Chevrolet  S10 Pickup 2WD  1984             2.0        4.0   \n",
       "7245  Chevrolet  S10 Pickup 2WD  1984             2.0        4.0   \n",
       "7246  Chevrolet  S10 Pickup 2WD  1984             2.0        4.0   \n",
       "7247  Chevrolet  S10 Pickup 2WD  1984             2.0        4.0   \n",
       "\n",
       "          transmision       traccion                    clase combustible  \\\n",
       "7243     Manual 4-spd  2-Wheel Drive  Small Pickup Trucks 2WD     Regular   \n",
       "7244     Manual 5-spd  2-Wheel Drive  Small Pickup Trucks 2WD     Regular   \n",
       "7245  Automatic 4-spd  2-Wheel Drive  Small Pickup Trucks 2WD     Regular   \n",
       "7246     Manual 4-spd  2-Wheel Drive  Small Pickup Trucks 2WD     Regular   \n",
       "7247     Manual 5-spd  2-Wheel Drive  Small Pickup Trucks 2WD     Regular   \n",
       "\n",
       "      consumo         co2                   modelo_unico  \n",
       "7243       24  370.291667  Chevrolet-S10 Pickup 2WD-1984  \n",
       "7244       26  341.807692  Chevrolet-S10 Pickup 2WD-1984  \n",
       "7245       20  444.350000  Chevrolet-S10 Pickup 2WD-1984  \n",
       "7246       21  423.190476  Chevrolet-S10 Pickup 2WD-1984  \n",
       "7247       22  403.954545  Chevrolet-S10 Pickup 2WD-1984  "
      ]
     },
     "execution_count": 12,
     "metadata": {},
     "output_type": "execute_result"
    }
   ],
   "source": [
    "vehiculos[vehiculos.modelo_unico=='Chevrolet-S10 Pickup 2WD-1984'].head()"
   ]
  },
  {
   "cell_type": "code",
   "execution_count": 14,
   "id": "6e520161-b12a-4db2-8e32-d41dd2087a4a",
   "metadata": {},
   "outputs": [
    {
     "data": {
      "text/plain": [
       "(1506, 12)"
      ]
     },
     "execution_count": 14,
     "metadata": {},
     "output_type": "execute_result"
    }
   ],
   "source": [
    "vehiculos[vehiculos.duplicated()].shape"
   ]
  },
  {
   "cell_type": "code",
   "execution_count": 15,
   "id": "2d2ef8b5-be74-428b-b54e-763ba154e991",
   "metadata": {},
   "outputs": [
    {
     "data": {
      "text/plain": [
       "(36930, 12)"
      ]
     },
     "execution_count": 15,
     "metadata": {},
     "output_type": "execute_result"
    }
   ],
   "source": [
    "vehiculos=vehiculos.drop_duplicates() # eliminamos valores duplicados\n",
    "vehiculos.shape"
   ]
  },
  {
   "cell_type": "code",
   "execution_count": 16,
   "id": "22b7848b-6753-40e0-919e-0d61c281ba50",
   "metadata": {},
   "outputs": [],
   "source": [
    "del vehiculos['modelo_unico'] #eliminamos columna de modelo_unico"
   ]
  },
  {
   "cell_type": "code",
   "execution_count": 17,
   "id": "250edc33-acc5-4e6e-8826-2a65fbf47604",
   "metadata": {},
   "outputs": [
    {
     "name": "stdout",
     "output_type": "stream",
     "text": [
      "fabricante | 0.1-0.0 | object\n",
      "modelo | 0.005-0.0 | object\n",
      "year | 0.038-0.007 | int64\n",
      "desplazamiento | 0.095-0.0 | float64\n",
      "cilindros | 0.38-0.0 | float64\n",
      "transmision | 0.287-0.0 | object\n",
      "traccion | 0.353-0.005 | object\n",
      "clase | 0.145-0.0 | object\n",
      "combustible | 0.652-0.0 | object\n",
      "consumo | 0.097-0.0 | int64\n",
      "co2 | 0.084-0.0 | float64\n"
     ]
    }
   ],
   "source": [
    "n_records = len(vehiculos)\n",
    "def valores_duplicados_col(df):\n",
    "    for columna in df:\n",
    "        n_por_valor = df[columna].value_counts()\n",
    "        mas_comun = n_por_valor.iloc[0]\n",
    "        menos_comun = n_por_valor.iloc[-1]\n",
    "        print(\"{} | {}-{} | {}\".format(\n",
    "            df[columna].name,\n",
    "            round(mas_comun / (1.0*n_records),3),\n",
    "            round(menos_comun / (1.0*n_records),3),\n",
    "            df[columna].dtype\n",
    "        ))\n",
    "\n",
    "valores_duplicados_col(vehiculos)"
   ]
  },
  {
   "cell_type": "code",
   "execution_count": 19,
   "id": "6677ba3a-e7a6-4b0b-8d21-353d0af8155c",
   "metadata": {},
   "outputs": [
    {
     "data": {
      "image/png": "[encoded data removed]",
      "text/plain": [
       "<Figure size 720x432 with 1 Axes>"
      ]
     },
     "metadata": {
      "needs_background": "light"
     },
     "output_type": "display_data"
    }
   ],
   "source": [
    "vehiculos.transmision.value_counts(normalize=True).plot.barh();"
   ]
  },
  {
   "cell_type": "code",
   "execution_count": 21,
   "id": "bce8b684-a5e3-46ff-a2ea-41837ae2808d",
   "metadata": {},
   "outputs": [
    {
     "data": {
      "image/png": "[encoded data removed]",
      "text/plain": [
       "<Figure size 720x432 with 1 Axes>"
      ]
     },
     "metadata": {
      "needs_background": "light"
     },
     "output_type": "display_data"
    }
   ],
   "source": [
    "vehiculos.cilindros.hist();"
   ]
  },
  {
   "cell_type": "code",
   "execution_count": 22,
   "id": "cf4b53cd-5c87-4904-9158-50ccb9c04aae",
   "metadata": {},
   "outputs": [
    {
     "data": {
      "image/png": "[encoded data removed]",
      "text/plain": [
       "<Figure size 720x432 with 1 Axes>"
      ]
     },
     "metadata": {
      "needs_background": "light"
     },
     "output_type": "display_data"
    }
   ],
   "source": [
    "vehiculos.combustible.value_counts(normalize=True).plot.barh();"
   ]
  },
  {
   "cell_type": "code",
   "execution_count": 23,
   "id": "c03bd729-b630-445f-9b51-2288a89bdeb3",
   "metadata": {},
   "outputs": [],
   "source": [
    "# la columna combustible si puede tener un problema al tener el 65% de los casos de gasolina regular"
   ]
  },
  {
   "cell_type": "markdown",
   "id": "beadd49e-ca32-438e-b96d-4945ff13a908",
   "metadata": {},
   "source": [
    "#### Valores Inexistentes"
   ]
  },
  {
   "cell_type": "code",
   "execution_count": 25,
   "id": "1f61f667-37f4-40e9-94a5-1872599c0356",
   "metadata": {},
   "outputs": [
    {
     "name": "stdout",
     "output_type": "stream",
     "text": [
      "fabricante | 0.0 | object\n",
      "modelo | 0.0 | object\n",
      "year | 0.0 | int64\n",
      "desplazamiento | 0.0037909558624424585 | float64\n",
      "cilindros | 0.003845112374763065 | float64\n",
      "transmision | 0.00029786081776333605 | object\n",
      "traccion | 0.02158137015976171 | object\n",
      "clase | 0.0 | object\n",
      "combustible | 0.0 | object\n",
      "consumo | 0.0 | int64\n",
      "co2 | 0.0 | float64\n"
     ]
    }
   ],
   "source": [
    "n_records = len(vehiculos)\n",
    "def valores_inexistentes_col(df):\n",
    "    for columna in df:\n",
    "        print(\"{} | {} | {}\".format(\n",
    "            df[columna].name, len(df[df[columna].isnull()]) / (1.0*n_records), df[columna].dtype\n",
    "        ))\n",
    "\n",
    "valores_inexistentes_col(vehiculos)\n"
   ]
  },
  {
   "cell_type": "markdown",
   "id": "14281a33-c803-411b-b525-ee4c2fc134ba",
   "metadata": {},
   "source": [
    "#Vemos que campo traccion, cilindros y transmision tienen valores inexistentes. Sin embargo son cantidades despreciables (maximo es la variable traccion con un 3% inexistente)"
   ]
  },
  {
   "cell_type": "markdown",
   "id": "4c5d2d64-23ea-4670-9ce9-f1347edb281b",
   "metadata": {},
   "source": [
    "#### Valores Extremos (outliers)"
   ]
  },
  {
   "cell_type": "code",
   "execution_count": 26,
   "id": "96f6fd75-ea0c-43e1-bcff-520ee607d72e",
   "metadata": {},
   "outputs": [
    {
     "name": "stdout",
     "output_type": "stream",
     "text": [
      "year | 0 | int64\n",
      "desplazamiento | 0 | float64\n",
      "cilindros | 0 | float64\n",
      "consumo | 233 | int64\n",
      "co2 | 358 | float64\n"
     ]
    },
    {
     "name": "stderr",
     "output_type": "stream",
     "text": [
      "<ipython-input-26-5e5c37a4d9d6>:6: DeprecationWarning: `np.object` is a deprecated alias for the builtin `object`. To silence this warning, use `object` by itself. Doing this will not modify any behavior and is safe. \n",
      "Deprecated in NumPy 1.20; for more details and guidance: https://numpy.org/devdocs/release/1.20.0-notes.html#deprecations\n",
      "  if df[columna].dtype != np.object:\n"
     ]
    }
   ],
   "source": [
    "from scipy import stats\n",
    "import numpy as np\n",
    "\n",
    "def outliers_col(df):\n",
    "    for columna in df:\n",
    "        if df[columna].dtype != np.object:\n",
    "            n_outliers = len(df[np.abs(stats.zscore(df[columna])) > 3])    \n",
    "            print(\"{} | {} | {}\".format(\n",
    "                df[columna].name,\n",
    "                n_outliers,\n",
    "                df[columna].dtype\n",
    "        ))\n",
    "\n",
    "outliers_col(vehiculos)"
   ]
  },
  {
   "cell_type": "code",
   "execution_count": 27,
   "id": "b94bcc38-1386-45da-b6c9-fc09ba87384b",
   "metadata": {},
   "outputs": [],
   "source": [
    "# Vemos que las variables de consumo y co2 tienen outliers. Podemos hacer un boxplot para visualizar esto mejor"
   ]
  },
  {
   "cell_type": "code",
   "execution_count": 28,
   "id": "d82e874d-50ac-4be2-bc31-7d92776c1373",
   "metadata": {},
   "outputs": [
    {
     "data": {
      "image/png": "[encoded data removed]",
      "text/plain": [
       "<Figure size 720x432 with 1 Axes>"
      ]
     },
     "metadata": {
      "needs_background": "light"
     },
     "output_type": "display_data"
    }
   ],
   "source": [
    "vehiculos.boxplot(column='consumo');"
   ]
  },
  {
   "cell_type": "code",
   "execution_count": 29,
   "id": "0c0b6aa1-3da1-479e-83eb-56b496695bdf",
   "metadata": {},
   "outputs": [
    {
     "data": {
      "image/png": "[encoded data removed]",
      "text/plain": [
       "<Figure size 720x432 with 1 Axes>"
      ]
     },
     "metadata": {
      "needs_background": "light"
     },
     "output_type": "display_data"
    }
   ],
   "source": [
    "vehiculos.boxplot(column='co2');"
   ]
  },
  {
   "cell_type": "code",
   "execution_count": 30,
   "id": "960c0a32-25c5-4637-89c2-d910fb91c689",
   "metadata": {},
   "outputs": [
    {
     "data": {
      "image/png": "[encoded data removed]",
      "text/plain": [
       "<Figure size 720x432 with 1 Axes>"
      ]
     },
     "metadata": {
      "needs_background": "light"
     },
     "output_type": "display_data"
    }
   ],
   "source": [
    "vehiculos.boxplot(column='cilindros');"
   ]
  },
  {
   "cell_type": "code",
   "execution_count": 31,
   "id": "9e684b2d-38ed-41cb-bbe2-f694a371be06",
   "metadata": {},
   "outputs": [
    {
     "data": {
      "text/plain": [
       "array(['Electricity'], dtype=object)"
      ]
     },
     "execution_count": 31,
     "metadata": {},
     "output_type": "execute_result"
    }
   ],
   "source": [
    "vehiculos[vehiculos.co2==0].combustible.unique()"
   ]
  },
  {
   "cell_type": "code",
   "execution_count": 32,
   "id": "a8aae11a-a29d-43b4-8978-c7900c74e16a",
   "metadata": {},
   "outputs": [
    {
     "data": {
      "text/plain": [
       "array(['Regular', 'Premium', 'Diesel', 'Premium and Electricity',\n",
       "       'Premium or E85', 'Electricity', 'Premium Gas or Electricity',\n",
       "       'Gasoline or E85', 'Gasoline or natural gas', 'CNG',\n",
       "       'Regular Gas or Electricity', 'Midgrade',\n",
       "       'Regular Gas and Electricity', 'Gasoline or propane'], dtype=object)"
      ]
     },
     "execution_count": 32,
     "metadata": {},
     "output_type": "execute_result"
    }
   ],
   "source": [
    "vehiculos.combustible.unique()"
   ]
  },
  {
   "cell_type": "code",
   "execution_count": 33,
   "id": "c2857da9-f00f-48ed-bd14-447260ecb45e",
   "metadata": {},
   "outputs": [],
   "source": [
    "vehiculos_no_electricos=vehiculos[vehiculos.co2>0]"
   ]
  },
  {
   "cell_type": "code",
   "execution_count": 34,
   "id": "e2c7a4da-d40e-4b0a-8f91-97156f97fc32",
   "metadata": {},
   "outputs": [
    {
     "name": "stdout",
     "output_type": "stream",
     "text": [
      "year | 0 | int64\n",
      "desplazamiento | 0 | float64\n",
      "cilindros | 0 | float64\n",
      "consumo | 400 | int64\n",
      "co2 | 221 | float64\n"
     ]
    },
    {
     "name": "stderr",
     "output_type": "stream",
     "text": [
      "<ipython-input-26-5e5c37a4d9d6>:6: DeprecationWarning: `np.object` is a deprecated alias for the builtin `object`. To silence this warning, use `object` by itself. Doing this will not modify any behavior and is safe. \n",
      "Deprecated in NumPy 1.20; for more details and guidance: https://numpy.org/devdocs/release/1.20.0-notes.html#deprecations\n",
      "  if df[columna].dtype != np.object:\n"
     ]
    }
   ],
   "source": [
    "outliers_col(vehiculos_no_electricos)"
   ]
  },
  {
   "cell_type": "code",
   "execution_count": 35,
   "id": "e97f8db7-a0c6-42e8-8ac0-c8cfd52f7d4a",
   "metadata": {},
   "outputs": [
    {
     "name": "stdout",
     "output_type": "stream",
     "text": [
      "fabricante | 0.0 | object\n",
      "modelo | 0.0 | object\n",
      "year | 0.0 | int64\n",
      "desplazamiento | 0.0037909558624424585 | float64\n",
      "cilindros | 0.003845112374763065 | float64\n",
      "transmision | 0.00029786081776333605 | object\n",
      "traccion | 0.02158137015976171 | object\n",
      "clase | 0.0 | object\n",
      "combustible | 0.0 | object\n",
      "consumo | 0.0 | int64\n",
      "co2 | 0.0 | float64\n"
     ]
    }
   ],
   "source": [
    "valores_inexistentes_col(vehiculos)"
   ]
  },
  {
   "cell_type": "code",
   "execution_count": 37,
   "id": "2e597fdc-df9a-4ac5-be38-cbe99ca18801",
   "metadata": {},
   "outputs": [],
   "source": [
    "vehiculos_no_electricos.to_csv('../Analisis_Exploratorio_Datos/vehiculos.2.limpio_analisis.csv',index=False)"
   ]
  },
  {
   "cell_type": "code",
   "execution_count": null,
   "id": "dd5319c2-dff0-4012-a9d6-b5c81618de7e",
   "metadata": {},
   "outputs": [],
   "source": []
  }
 ],
 "metadata": {
  "kernelspec": {
   "display_name": "Python 3",
   "language": "python",
   "name": "python3"
  },
  "language_info": {
   "codemirror_mode": {
    "name": "ipython",
    "version": 3
   },
   "file_extension": ".py",
   "mimetype": "text/x-python",
   "name": "python",
   "nbconvert_exporter": "python",
   "pygments_lexer": "ipython3",
   "version": "3.8.8"
  }
 },
 "nbformat": 4,
 "nbformat_minor": 5
}
